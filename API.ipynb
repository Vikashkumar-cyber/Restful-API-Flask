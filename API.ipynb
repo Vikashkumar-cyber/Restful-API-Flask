{
  "nbformat": 4,
  "nbformat_minor": 0,
  "metadata": {
    "colab": {
      "provenance": []
    },
    "kernelspec": {
      "name": "python3",
      "display_name": "Python 3"
    },
    "language_info": {
      "name": "python"
    }
  },
  "cells": [
    {
      "cell_type": "markdown",
      "source": [
        "#API ASSIGNMENT\n",
        "\n",
        "\n",
        "\n",
        "#THEORITICAL ASSIGNMENT"
      ],
      "metadata": {
        "id": "igV52EsUK-iN"
      }
    },
    {
      "cell_type": "markdown",
      "source": [
        "\n",
        "API ASSIGNMENT\n",
        "THEORITICAL ASSIGNMENT\n",
        "What is a RESTful API4\n",
        "--> A REST API, also known as a RESTful API, is an application programming interface (API) that adheres to the architectural style of Representational State Transfer (REST). This architectural style, defined by computer scientist Roy Fielding, outlines a set of constraints for designing networked applications. The core idea of a REST API is to enable communication between different software systems (client and server) over a network, typically the internet, using standard web protocols like HTTP. It treats data and functionalities as \"resources,\" each identified by a unique Uniform Resource Identifier (URI), similar to a web URL.\n",
        "\n",
        "Explain the concept of API specification\n",
        "--> An API specification is a formal, machine-readable document that serves as a blueprint or contract for an Application Programming Interface (API). It precisely outlines the API's functionality, its expected behavior, and the rules governing interactions with it. Key aspects of an API specification include: Endpoints and Operations: It defines the available endpoints (URLs) and the HTTP methods (GET, POST, PUT, DELETE, etc.) that can be used to interact with them. Request and Response Structures: It details the format and structure of data expected in requests (e.g., JSON or XML schemas for input parameters) and the data returned in responses, including status codes (e.g., 200 OK, 404 Not Found) and error messages. Data Models: It specifies the data types and structures used within the API, ensuring consistency and clarity for developers. Authentication and Authorization: It describes how users or applications authenticate with the API and the authorization mechanisms in place to control access to resources. Versioning: It often includes information about API versioning, allowing for controlled evolution and backward compatibility. Commonly used formats for API specifications include the OpenAPI Specification (OAS), RAML, and API Blueprint. These formats enable automation in generating documentation, client libraries (SDKs), and test cases, streamlining the API development and consumption process. In essence, an API specification provides a clear and unambiguous definition of an API, facilitating collaboration between development teams, improving consistency, and enabling efficient integration with other systems.\n",
        "\n",
        "What is Flask, and why is it popular for building APIs\n",
        "--> Flask is a micro web framework written in Python. It is designed to be lightweight and minimalist, providing the essential tools for web application development without imposing a rigid structure or including many built-in features like an Object Relational Manager (ORM) or form validation. This design philosophy gives developers more freedom and flexibility in choosing the components and libraries they want to use. Flask is popular for building APIs due to several key reasons: Lightweight and Minimalist: Its small codebase and lack of extensive built-in features make it very efficient and fast. This is particularly advantageous for APIs, which often need to be lean and responsive. Flexibility and Extensibility: Flask's micro-framework nature means developers can easily integrate it with various libraries and extensions to add specific functionalities required for their API, such as database interaction, authentication, or serialization. Simplicity and Ease of Learning: Flask's clear and concise syntax, along with its straightforward structure for handling HTTP requests and responses, makes it relatively easy to learn and quickly get started with API development, even for beginners. Rapid Development: The minimal setup and flexible nature of Flask allow for quick prototyping and rapid development of APIs, enabling developers to build and deploy endpoints efficiently. Built-in Development Server and Debugger: Flask includes a convenient built-in development server and debugger, simplifying the testing and debugging process during API development. Strong Community and Ecosystem: Flask benefits from a large and active community, which contributes to a rich ecosystem of extensions and resources, further enhancing its utility for API development.\n",
        "\n",
        "What is routing in Flask\n",
        "--> Routing in Flask is the mechanism that maps specific URL patterns to Python functions within your web application. When a user accesses a particular URL in their web browser, Flask uses its routing system to determine which function should be executed to handle that request and generate a response. Here are the key aspects of routing in Flask: URL to Function Mapping: The core idea is to associate a URL path (e.g., /home, /products, /users/) with a Python function that will process the request for that URL. @app.route() Decorator: The most common way to define routes in Flask is by using the @app.route() decorator. This decorator is placed directly above a Python function, specifying the URL path that should trigger the execution of that function.\n",
        "\n",
        "How do you create a simple Flask application\n",
        "--> Creating a simple Flask application involves a few key steps: install flask. If you don't have Flask installed, open your terminal or command prompt and run: Code\n",
        "\n",
        "pip install Flask\n",
        "Create your project folder and file. Create a new directory for your project and navigate into it. Then, create a Python file (e.g., app.py) inside this directory. Write the Flask application code. Open app.py and add the following code: Python\n",
        "\n",
        "    app.run(debug=True)\n",
        "from flask import Flask: Imports the Flask class. app = Flask(name): Creates an instance of the Flask application. __name is a special Python variable that represents the name of the current module. @app.route('/'): This is a decorator that associates the hello_world function with the root URL (/). When a user visits this URL, the hello_world function will be executed. def hello_world(): return 'Hello, World!': This function returns the string \"Hello, World!\", which will be displayed in the user's browser. if name == 'main': app.run(debug=True): This block ensures that the development server runs only when the script is executed directly (not when imported as a module). debug=True enables debug mode, which provides helpful error messages and automatically reloads the server on code changes. Run your Flask application. Open your terminal or command prompt, navigate to your project directory, and run:\n",
        "\n",
        "What are HTTP methods used in RESTful APIs\n",
        "--> HTTP methods, also known as HTTP verbs, are a fundamental part of the Hypertext Transfer Protocol (HTTP) and define the desired action to be performed on a resource identified by a Uniform Resource Identifier (URI). They are used in client-server communication, particularly in web browsers interacting with web servers and in API interactions. The most commonly used HTTP methods are: GET: Used to retrieve data from the server. It is a safe and idempotent method, meaning it does not alter the server's state and multiple identical requests have the same effect as a single request. POST: Used to submit data to the server, often resulting in the creation of a new resource or a change in the state of an existing resource. It is neither safe nor idempotent. PUT: Used to update an existing resource or create a new one if it does not exist at the specified URI. It is idempotent but not safe. DELETE: Used to remove a specified resource from the server. It is idempotent but not safe. PATCH: Used to apply partial modifications to a resource. It is neither safe nor idempotent. HEAD: Similar to GET, but it only requests the headers of a resource, without the body. It is safe and idempotent. OPTIONS: Used to describe the communication options for the target resource. It is safe and idempotent. These methods are crucial for building RESTful APIs and enabling various interactions with web resources, including creating, reading, updating, and deleting data.\n",
        "\n",
        "What is the purpose of the @app.route() decorator in Flask\n",
        "--> The @app.route() decorator in Flask serves the purpose of defining URL routing for a web application. It binds a specific URL path to a Python function, known as a view function, which handles the logic for requests made to that URL. Here's a breakdown of its function: URL Mapping: The primary purpose is to establish a clear mapping between a URL and the Python function that should execute when that URL is accessed by a client (e.g., a web browser). Request Handling: When a client sends a request to a URL defined by @app.route(), Flask automatically calls the decorated view function. This function then processes the request and returns a response, which can be HTML, JSON, or any other data type. Readability and Organization: Using the decorator makes the code more readable and helps in organizing the application's routes by placing the URL definition directly above the function it controls. Dynamic Routing: @app.route() supports dynamic URLs by allowing variable parts in the route, such as int:post_id or string:username. These variables are captured from the URL and passed as arguments to the view function, enabling flexible and data-driven routing. HTTP Methods: It can also specify which HTTP methods (e.g., GET, POST, PUT, DELETE) a particular route should handle, providing control over how the route responds to different types of requests.\n",
        "\n",
        "What is the difference between GET and POST HTTP methods\n",
        "--> The GET and POST methods are two fundamental HTTP request methods used for communication between a client (like a web browser) and a server. They differ primarily in how they transmit data and their intended use cases: GET Method: Data Transmission: Data is sent as query parameters appended to the URL. For example: www.example.com/search?query=keyword. Visibility: Parameters are visible in the URL, browser history, and server logs. Security: Less secure for sensitive data due to visibility. Data Size: Limited by URL length restrictions. Caching: GET requests are typically cacheable, meaning the browser or proxy servers can store the response for faster retrieval if the same request is made again. Idempotence: GET requests are idempotent, meaning making the same request multiple times will have the same effect as making it once (it only retrieves data and doesn't change server state). Usage: Primarily used for retrieving data, such as searching, filtering, or displaying information. POST Method: Data Transmission: Data is sent in the body of the HTTP request. Visibility: Parameters are not visible in the URL. Security: More secure for sensitive data as it's not exposed in the URL. Data Size: No practical limit on the amount of data that can be sent. Caching: POST requests are generally not cacheable. Idempotence: POST requests are not inherently idempotent; making the same request multiple times can lead to multiple resource creations or modifications. Usage: Primarily used for submitting data to create or update resources on the server, such as submitting forms, uploading files, or creating new entries in a database.\n",
        "\n",
        "How do you handle errors in Flask APIs\n",
        "--> Error handling in Flask APIs involves catching exceptions that occur during request processing and returning appropriate, structured responses to the client, typically in JSON format.\n",
        "\n",
        "Using Flask's Error Handling Mechanism: @app.errorhandler() decorator: This decorator allows you to define custom functions to handle specific HTTP status codes (like 404 Not Found, 500 Internal Server Error) or Python exceptions globally.\n",
        "\n",
        "Custom Exceptions: Define custom exception classes that inherit from Exception or HTTPException (from werkzeug.exceptions) to represent specific API errors. These can carry custom error messages and status codes.\n",
        "\n",
        "Returning Proper HTTP Status Codes and JSON Responses: Ensure that your error handlers return appropriate HTTP status codes along with a JSON body containing a descriptive error message.\n",
        "\n",
        "Using abort() for Early Exits: The abort() function (from flask) can be used to immediately raise an HTTPException and trigger the corresponding error handler. This is useful for validation failures or missing resources.\n",
        "\n",
        "Centralized Error Handling (Optional): For larger APIs, consider a centralized error handling mechanism, potentially using a blueprint or a separate module to register all error handlers, promoting code organization.\n",
        "\n",
        "How do you connect Flask to a SQL database\n",
        "--> other application logic. Adding data. Python\n",
        "\n",
        "    new_user = User(username='testuser', email='test@example.com')\n",
        "    db.session.add(new_user)\n",
        "    db.session.commit()\n",
        "Querying data. Python\n",
        "\n",
        "    users = User.query.all()\n",
        "    user = User.query.filter_by(username='testuser').first()\n",
        "Updating data. Python\n",
        "\n",
        "    user.email = 'new_email@example.com'\n",
        "    db.session.commit()\n",
        "Deleting data. Python\n",
        "\n",
        "    db.session.delete(user)\n",
        "    db.session.commit()\n",
        "What is the role of Flask-SQLAlchemy\n",
        "--> Flask-SQLAlchemy is a Flask extension that makes using SQLAlchemy with Flask easier, providing you tools and methods to interact with your database in your Flask applications through SQLAlchemy. In this tutorial, you'll build a small student management system that demonstrates how to use the Flask-SQLAlchemy extension\n",
        "\n",
        "What are Flask blueprints, and how are they useful\n",
        "--> Flask Blueprints are a mechanism in the Flask web framework for organizing your application into modular and reusable components. They allow you to define a set of views, templates, static files, and other resources that are associated with a specific part of your application. How they are useful: Modularization: Blueprints enable you to break down a large Flask application into smaller, more manageable units. Each blueprint can represent a distinct feature or area of your application (e.g., user authentication, admin panel, blog posts), making the codebase easier to understand and navigate. Code Organization: They promote a structured approach to development by allowing you to group related code, templates, and static files within their respective blueprint directories. This prevents a single, monolithic app.py file from becoming unwieldy. Reusability: Blueprints can be easily registered with different Flask applications or even multiple times within the same application, potentially with different URL prefixes. This promotes code reuse and reduces duplication. Scalability: As your application grows, blueprints help maintain a clean and organized structure, making it easier to add new features or expand existing ones without impacting other parts of the application. Team Collaboration: In a team environment, blueprints allow different developers to work on separate parts of the application concurrently without significant conflicts, as each team or individual can focus on their assigned blueprint. Application Factories: Blueprints are often used in conjunction with the \"application factory\" pattern, where a function is used to create and configure a Flask application instance. This allows for flexible application creation and testing. In essence, Flask Blueprints provide a powerful way to manage complexity in Flask applications, promoting a clean, modular, and scalable architecture.\n",
        "\n",
        "What is the purpose of Flask's request object\n",
        "--> The purpose of the Flask request object is to provide a comprehensive interface for accessing and manipulating data associated with an incoming HTTP request within a Flask web application. It acts as a central container for all information sent by the client to the server for a specific request. Here are the key aspects of its purpose: Accessing Request Data: It allows developers to easily retrieve various types of data sent with the request, including: Form Data: Data submitted through HTML forms (e.g., request.form). Query Parameters: Data passed in the URL's query string (e.g., request.args). Headers: HTTP headers sent by the client (e.g., request.headers). Cookies: Cookies sent by the client (e.g., request.cookies). Files: Uploaded files (e.g., request.files). Raw Data: The raw body of the request (e.g., request.data). Inspecting Request Properties: It provides properties to inspect characteristics of the request, such as: HTTP Method: The HTTP method used (e.g., request.method). URL Information: The requested URL and its components (e.g., request.path, request.url). Client Information: The client's IP address, user agent, etc. Facilitating Request Processing: By centralizing access to request data, the request object simplifies the logic for processing incoming requests, enabling developers to build robust and responsive web applications. It is automatically created by Flask for each incoming request and is available within the request context.\n",
        "\n",
        "How do you create a RESTful API endpoint using Flask\n",
        "--> Creating a RESTful API involves several steps, generally following these principles: Identify Resources: Determine the core entities or objects your API will manage. For example, in an e-commerce API, resources might be \"products,\" \"orders,\" and \"customers.\" Design URIs: Create clear and intuitive Uniform Resource Identifiers (URIs) to represent your resources. These URIs should be hierarchical and reflect the relationships between resources. For instance, /products for all products, and /products/{id} for a specific product. Choose Data Formats: Decide on the data format for requests and responses, with JSON and XML being the most common choices. JSON is widely preferred due to its lightweight nature and ease of parsing. Map HTTP Methods to Operations: Assign standard HTTP methods (GET, POST, PUT, DELETE, PATCH) to the corresponding CRUD (Create, Read, Update, Delete) operations on your resources: GET: Retrieve resources. POST: Create new resources. PUT: Update existing resources entirely, or create if not found. PATCH: Partially update existing resources. DELETE: Remove resources. Implement Server-Side Logic: Use a suitable programming language and web framework (e.g., Python with Flask/Django, Node.js with Express, Java with Spring Boot) to implement the server-side logic that handles requests to your defined URIs and performs the corresponding operations on your data. This often involves interacting with a database. Handle Authentication and Authorization: Implement mechanisms to secure your API, such as API keys, OAuth, or JWTs, to control access to resources and ensure only authorized users can perform certain actions. Implement Error Handling: Design clear and informative error responses (using appropriate HTTP status codes like 400 Bad Request, 404 Not Found, 500 Internal Server Error) to guide API consumers when errors occur. Document the API: Provide comprehensive documentation using tools like OpenAPI (Swagger) to describe your API's endpoints, request/response formats, authentication requirements, and error codes. This helps developers understand and integrate with your API. Test the API: Thoroughly test your API using tools like Postman or Insomnia to ensure all endpoints function as expected, handle edge cases correctly, and meet performance requirements. Deploy the API: Deploy your API to a production environment, considering scalability, monitoring, and security best practices.\n",
        "\n",
        "What is the purpose of Flask's jsonify() function\n",
        "--> The flask.jsonify function in Flask serves the purpose of simplifying the creation of JSON-formatted HTTP responses within Flask web applications, especially when building APIs. Here's a breakdown of its key purposes: Converting Python Objects to JSON: It efficiently converts Python objects (like dictionaries, lists, or even multiple arguments/keyword arguments) into JSON-formatted strings. This is crucial for sending structured data to client applications (e.g., web browsers, mobile apps). Setting the Content-Type Header: Unlike simply using json.dumps(), jsonify() automatically sets the Content-Type HTTP header of the response to application/json. This informs the client that the response body contains JSON data, allowing it to parse it correctly. Creating Flask Response Objects: It wraps the JSON output within a Flask Response object, making it a valid and complete HTTP response that Flask can send back to the client. Convenience and Simplicity: It provides a convenient and concise way to create JSON responses, reducing boilerplate code compared to manually handling JSON serialization and response object creation. In essence, jsonify streamlines the process of building RESTful APIs and other applications in Flask that rely on sending and receiving data in the JSON format.\n",
        "\n",
        "Explain Flask’s url_for() function\n",
        "--> The URL class in Java, found within the java.net package, represents a Uniform Resource Locator (URL). A URL serves as an address or pointer to a \"resource\" on the World Wide Web. This resource can be various things, such as: Files: HTML pages, images, documents, etc. Directories: A location on a server. More complex objects: Queries to databases, search engine requests, or dynamic content generated by a server. Key aspects of the URL class: Representation of a Web Address: It encapsulates all the components of a URL address, including the protocol (e.g., http, https, ftp), host name, port number, path, query string, and fragment identifier. Constructors: The URL class provides various constructors to create URL objects from different inputs: From a complete URL string (e.g., new URL(\"https://www.example.com/page.html\")). From individual components like protocol, host, port, and file path. By resolving a relative URL against a base URL. Methods for Component Retrieval: It offers methods to extract individual parts of the URL, such as getProtocol(), getHost(), getPort(), getPath(), getFile(), getQuery(), and getRef() (for the fragment). Connecting to Resources: While the URL class itself represents the address, the openConnection() method returns a URLConnection object, which is then used to establish a connection to the resource and read or write data.\n",
        "\n",
        "How does Flask handle static files (CSS, JavaScript, etc.)\n",
        "--> Flask provides a straightforward mechanism for handling static files such as CSS stylesheets, JavaScript files, images, and other assets that are served directly to the client's browser without dynamic processing.\n",
        "\n",
        "Static Folder Convention: By default, Flask expects static files to reside within a directory named static located in the root of your Flask project or within a blueprint's directory. For example, if you have a file style.css, you would place it in your_project/static/style.css. Similarly, script.js would go into your_project/static/script.js.\n",
        "Referencing in Templates using url_for: To link to these static files within your HTML templates (Jinja2), you use the url_for() function. The url_for() function takes two arguments: 'static': This indicates that you are referencing a file from the designated static folder. filename='path/to/your/file.ext': This specifies the path to your static file relative to the static folder.\n",
        "What is an API specification, and how does it help in building a Flask API\n",
        "--> An API specification is a formal, machine-readable document that describes the structure and behavior of an API. It acts as a blueprint, detailing the endpoints, operations, parameters, request/response formats, data models, and security schemes of an API. Common examples include the OpenAPI Specification (formerly Swagger) and RAML. How it helps in building a Flask API: Clear Design and Planning: An API specification forces a clear and comprehensive design upfront, ensuring all stakeholders (developers, testers, documentation writers) have a shared understanding of the API's functionality before coding begins. Automated Documentation: Tools like Flask-RESTX or Flask-Marshmallow can leverage an OpenAPI specification to automatically generate interactive API documentation (e.g., Swagger UI). This saves time and ensures the documentation remains consistent with the API's implementation. Code Generation: Some tools can generate client-side code (for various programming languages) or server-side stubs directly from an API specification. This can accelerate development by providing a starting point for the Flask API implementation. Validation and Testing: The specification defines the expected input and output formats. This allows for automated validation of requests and responses, ensuring data integrity and helping in the creation of robust test cases for the Flask API. Improved Collaboration: A well-defined API specification facilitates collaboration among teams, as it provides a single source of truth for how the API should function, reducing miscommunication and integration issues. Consistency and Standardization: By adhering to a specification, the Flask API can maintain consistency in its design patterns and data structures, making it easier to consume and integrate with other systems.\n",
        "\n",
        "What are HTTP status codes, and why are they important in a Flask API\n",
        "--> HTTP status codes are three-digit numbers returned by a web server in response to an HTTP request from a client. They indicate the outcome of the request, providing information about whether it was successful, redirected, or resulted in an error. These codes are a fundamental part of the HTTP protocol, which governs how data is exchanged between clients and servers on the internet. HTTP status codes are grouped into five classes: 1xx Informational responses: Indicate that the request was received and understood. 2xx Successful responses: Indicate that the request was successfully received, understood, and accepted. Examples include 200 OK (standard success) and 201 Created (resource successfully created). 3xx Redirection messages: Indicate that further action needs to be taken by the client to fulfill the request. Examples include 301 Moved Permanently and 302 Found. 4xx Client error responses: Indicate that the client made an error in the request. Examples include 400 Bad Request (invalid syntax), 401 Unauthorized (authentication required), and 404 Not Found (resource not found). 5xx Server error responses: Indicate that the server failed to fulfill a valid request. An example is 500 Internal Server Error. Importance in a Flask API: HTTP status codes are crucial in a Flask API for several reasons: Clear Communication: They provide a standardized way for the API to communicate the outcome of a request to the client. This allows the client to understand what happened and how to proceed. Error Handling: Status codes are essential for robust error handling. By returning appropriate 4xx or 5xx codes, the API can signal specific client-side or server-side issues, enabling clients to implement appropriate error handling logic. Client Behavior: Different status codes guide client behavior. For example, a 3xx code tells the client to redirect, while a 401 code prompts the client to re-authenticate. Debugging and Troubleshooting: Status codes are invaluable for debugging and troubleshooting API issues. They quickly identify whether the problem lies with the client's request or the server's processing. RESTful Principles: In the context of RESTful APIs, status codes are integral to the stateless nature and uniform interface constraints, providing a clear and consistent way to represent resource state and operation outcomes. In Flask, you can easily return status codes along with your response data\n",
        "\n",
        "How do you handle POST requests in Flask\n",
        "--> Handling POST requests in Flask involves defining a route that accepts the POST method and then extracting the data sent in the request body.\n",
        "\n",
        "Define the Route with methods=['POST']: Python\n",
        "from flask import Flask, request, jsonify\n",
        "\n",
        "app = Flask(name)\n",
        "\n",
        "@app.route('/submit_data', methods=['POST']) def submit_data():\n",
        "\n",
        "# ... handle the POST request data here ...\n",
        "return jsonify({\"message\": \"Data received successfully!\"})\n",
        "if name == 'main': app.run(debug=True) The @app.route('/submit_data', methods=['POST']) decorator specifies that the submit_data function will handle requests to the /submit_data URL, but only if the HTTP method is POST.\n",
        "\n",
        "Extract Data from the Request Body: The method to extract data depends on the format of the data sent in the request body. Form Data (e.g., from an HTML form with method=\"post\"): Python\n",
        "\n",
        "if request.method == 'POST':\n",
        "\n",
        " username = request.form['username']\n",
        " password = request.form['password']\n",
        " # ... process username and password ...\n",
        "request.form is a dictionary-like object containing data from standard HTML forms. JSON Data (e.g., from a JavaScript fetch or axios request with Content-Type: application/json): Python\n",
        "\n",
        "if request.method == 'POST':\n",
        "\n",
        " data = request.get_json()\n",
        " if data:\n",
        "     item_name = data.get('item_name')\n",
        "     quantity = data.get('quantity')\n",
        "     # ... process item_name and quantity ...\n",
        "request.get_json() parses the request body as JSON and returns a Python dictionary. It returns None if the request body is not valid JSON.\n",
        "\n",
        "Process the Data and Send a Response: After extracting the data, you can perform any necessary processing, such as: Storing the data in a database, Performing calculations or business logic, and Validating the incoming data. Finally, return a response to the client, typically using jsonify() for API endpoints to send JSON responses. Example with Form Data: Python\n",
        "\n",
        "from flask import Flask, request, render_template, redirect, url_for\n",
        "\n",
        "app = Flask(name)\n",
        "\n",
        "@app.route('/login', methods=['GET', 'POST']) def login(): if request.method == 'POST': username = request.form['username'] password = request.form['password'] if username == 'admin' and password == 'password': return redirect(url_for('dashboard')) else: return render_template('login.html', error='Invalid credentials') return render_template('login.html')\n",
        "\n",
        "@app.route('/dashboard') def dashboard(): return \"Welcome to the Dashboard!\"\n",
        "\n",
        "if name == 'main': app.run(debug=True)\n",
        "\n",
        "How would you secure a Flask API\n",
        "--> Securing a Flask API involves implementing various measures to protect against common vulnerabilities and unauthorized access. Key aspects include: Authentication: Token-Based Authentication (JWTs): This is a common and recommended method for APIs. Users authenticate once (e.g., with username/password) and receive a JSON Web Token (JWT). This token is then sent with subsequent requests for authentication and authorization. Libraries like Flask-JWT-Extended can facilitate this. API Keys: For non-human clients or specific integrations, API keys can be used for authentication and identification. OAuth/OpenID Connect: For more complex authentication flows, especially involving third-party services, integrating with an OAuth 2.0 or OpenID Connect provider (e.g., Auth0, Okta) is a robust solution. Authorization: Role-Based Access Control (RBAC): Define roles (e.g., admin, user) and assign permissions to these roles. Users are then granted access to specific API endpoints or functionalities based on their assigned roles. Claims-Based Authorization: Utilize claims within JWTs to provide fine-grained control over resource access, allowing or denying access based on specific attributes or permissions embedded in the token. Data Security: HTTPS/SSL/TLS: Always use HTTPS to encrypt communication between the client and the API, preventing eavesdropping and man-in-the-middle attacks. Secure Password Storage: Store user passwords using strong cryptographic hashes (e.g., bcrypt) and never in plain text. Sensitive Data Protection: Protect sensitive data in configuration files (e.g., database credentials, API keys) by not committing them directly to version control and using environment variables or secure vault solutions. Vulnerability Mitigation: Disable Debug Mode in Production: Ensure app.run(debug=False) is set in production environments to prevent exposure of sensitive information and potential code execution vulnerabilities. Input Validation and Sanitization: Validate and sanitize all user inputs to prevent common attacks like SQL injection, Cross-Site Scripting (XSS), and command injection. Cross-Origin Resource Sharing (CORS): Implement CORS policies to control which domains are allowed to access your API, preventing unauthorized cross-origin requests. CSRF Protection: While less critical for pure APIs, if your Flask application also serves web pages, implement CSRF protection using Flask-WTF or similar. General Security Practices: Regular Security Audits and Penetration Testing: Periodically assess your API for vulnerabilities. Follow OWASP Guidelines: Adhere to the OWASP Top 10 and other security best practices relevant to APIs. Use Security Libraries and Extensions: Leverage well-maintained Flask extensions for security features (e.g., Flask-Security-Too, Flask-HTTPAuth). Logging and Monitoring: Implement robust logging to track API activity and identify potential security incidents. Rate Limiting: Protect against brute-force attacks and denial-of-service by implementing rate limiting on API endpoints.\n",
        "\n",
        "What is the significance of the Flask-RESTful extension\n",
        "--> Flask-RESTful is a significant extension for the Flask web framework, designed to streamline and simplify the process of building RESTful APIs. Its significance lies in several key areas: Simplifying API Development: Flask-RESTful provides a more structured and efficient way to define API resources and handle HTTP methods (GET, POST, PUT, DELETE). It reduces boilerplate code, making API development faster and more manageable compared to building a REST API solely with Flask's core functionalities. Resource-Oriented Design: It encourages a resource-oriented approach, where API endpoints are defined as classes inheriting from Resource. This allows for a clear organization of API logic and methods associated with specific resources, improving code readability and maintainability. Automatic Features: Flask-RESTful offers built-in features that automate common API tasks. This includes automatic request parsing and validation, response formatting (often to JSON), and integrated error handling for common HTTP errors, reducing the need for manual implementation of these functionalities. Consistency and Best Practices: The extension promotes RESTful best practices by providing tools that encourage consistent response formats, status codes, and error messages. This leads to more predictable and user-friendly APIs. Extensibility and Integration: Flask-RESTful is designed to be lightweight and integrate seamlessly with existing Flask applications, ORMs, and other libraries. It can be combined with extensions like Flask-JWT for authentication and authorization, or used with tools for generating API documentation (e.g., Swagger UI via Flask-RESTX, a community fork). In essence, Flask-RESTful's significance is in its ability to abstract away much of the complexity involved in building REST APIs with Flask, allowing developers to focus on the core business logic while benefiting from a more organized, efficient, and standardized API development process.\n",
        "\n",
        "What is the role of Flask’s session object?\n",
        "-->Flask's session object provides a way to store and manage user-specific data across multiple HTTP requests, effectively maintaining state between different interactions with a web application. It allows developers to store information like user authentication status, preferences, or shopping cart contents, and retrieve it on subsequent requests. Here's a more detailed explanation: Key Functions of Flask's Session Object: User Authentication: Sessions are crucial for tracking whether a user is logged in and storing user-related data like usernames or roles. State Management: They enable the persistence of user-specific data across different pages or requests, which is essential for features like shopping carts, form data persistence, and user preferences. Data Storage: Sessions store data on the server-side, typically using cookies to manage the session on the client side. This data is cryptographically signed to ensure security and prevent tampering. Extensibility: Flask-Session is an extension that can be used to extend session capabilities, such as specifying different storage types (e.g., Redis, Memcached). How it Works:\n",
        "\n",
        "Initialization: When a user interacts with the application, a session is typically initiated. This session is associated with the user's browser and stored on the server.\n",
        "Data Storage: Data is stored within the session object. For example, session['username'] = 'john_doe' would store the username \"john_doe\" in the session.\n",
        "Data Retrieval: On subsequent requests, the session object retrieves the stored data based on the user's session ID, allowing the application to access the user's information.\n",
        "Security: Flask uses cryptographically signed cookies to store the session ID, which helps prevent unauthorized access or modification of session data.\n",
        "\n",
        "[ ]\n",
        "\n",
        "Start coding or generate with AI.\n",
        "1.How do you create a basic Flask application\n",
        "\n",
        "\n",
        "[ ]\n",
        "h = 't'\n",
        "h\n",
        "\n",
        "[ ]\n",
        "from flask import Flask\n",
        "\n",
        "app = Flask(__name__)\n",
        "\n",
        "@app.route('/')\n",
        "def hello_world():\n",
        "    return 'Hello, World!'\n",
        "\n",
        "if __name__ == '__main__':\n",
        "    app.run(debug=True)\n",
        " * Serving Flask app '__main__'\n",
        " * Debug mode: on\n",
        "INFO:werkzeug:WARNING: This is a development server. Do not use it in a production deployment. Use a production WSGI server instead.\n",
        " * Running on http://127.0.0.1:5000\n",
        "INFO:werkzeug:Press CTRL+C to quit\n",
        "INFO:werkzeug: * Restarting with stat\n",
        "How do you serve static files like images or CSS in Flask\n",
        "Flask serves static files from a folder named static in your application's root directory by default.\n",
        "\n",
        "To reference static files in your templates, you can use the url_for function with the endpoint name 'static'.\n",
        "\n",
        "Gemini\n",
        "\n",
        "[ ]\n",
        "from flask import Flask, render_template, url_for\n",
        "\n",
        "app = Flask(__name__)\n",
        "\n",
        "@app.route('/')\n",
        "def index():\n",
        "    # Assuming you have an index.html file in a 'templates' folder\n",
        "    return render_template('index.html')\n",
        "\n",
        "if __name__ == '__main__':\n",
        "    # In your template (e.g., templates/index.html), you would link to static files like this:\n",
        "    # <link rel=\"stylesheet\" href=\"{{ url_for('static', filename='style.css') }}\">\n",
        "    # <img src=\"{{ url_for('static', filename='images/logo.png') }}\" alt=\"Logo\">\n",
        "    app.run(debug=True)\n",
        "In this example:\n",
        "\n",
        "We import url_for from flask.\n",
        "In your HTML template (e.g., templates/index.html), you would use {{ url_for('static', filename='<path/to/your/file>') }} to generate the URL for your static files.\n",
        "Place your static files (CSS, images, JS, etc.) inside a folder named static in your project's root directory. You can create subfolders within static for better organization (e.g., static/css, static/images).\n",
        "How do you define different routes with different HTTP methods in Flask\n",
        "\n",
        "[ ]\n",
        "\n",
        "Start coding or generate with AI.\n",
        "How do you render HTML templates in Flask\n",
        "\n",
        "[ ]\n",
        "\n",
        "Start coding or generate with AI.\n",
        "Colab paid products - Cancel contracts here\n",
        "Resuming execution\n"
      ],
      "metadata": {
        "id": "03qs6ZPfK-Ru"
      }
    },
    {
      "cell_type": "markdown",
      "source": [
        "#PRACTICAL ASSIGNMENT"
      ],
      "metadata": {
        "id": "BY011o00PsPM"
      }
    },
    {
      "cell_type": "code",
      "source": [
        "!pip install Flask-WTF"
      ],
      "metadata": {
        "colab": {
          "base_uri": "https://localhost:8080/"
        },
        "id": "ouEn7U7JNe5A",
        "outputId": "813063dd-6150-4bdd-fee1-1b1697e0f90d"
      },
      "execution_count": 10,
      "outputs": [
        {
          "output_type": "stream",
          "name": "stdout",
          "text": [
            "Requirement already satisfied: Flask-WTF in /usr/local/lib/python3.11/dist-packages (1.2.2)\n",
            "Requirement already satisfied: flask in /usr/local/lib/python3.11/dist-packages (from Flask-WTF) (3.1.1)\n",
            "Requirement already satisfied: itsdangerous in /usr/local/lib/python3.11/dist-packages (from Flask-WTF) (2.2.0)\n",
            "Requirement already satisfied: wtforms in /usr/local/lib/python3.11/dist-packages (from Flask-WTF) (3.2.1)\n",
            "Requirement already satisfied: blinker>=1.9.0 in /usr/local/lib/python3.11/dist-packages (from flask->Flask-WTF) (1.9.0)\n",
            "Requirement already satisfied: click>=8.1.3 in /usr/local/lib/python3.11/dist-packages (from flask->Flask-WTF) (8.2.1)\n",
            "Requirement already satisfied: jinja2>=3.1.2 in /usr/local/lib/python3.11/dist-packages (from flask->Flask-WTF) (3.1.6)\n",
            "Requirement already satisfied: markupsafe>=2.1.1 in /usr/local/lib/python3.11/dist-packages (from flask->Flask-WTF) (3.0.2)\n",
            "Requirement already satisfied: werkzeug>=3.1.0 in /usr/local/lib/python3.11/dist-packages (from flask->Flask-WTF) (3.1.3)\n"
          ]
        }
      ]
    },
    {
      "cell_type": "markdown",
      "source": [
        "1. How do you create a basic Flask application"
      ],
      "metadata": {
        "id": "VIPJTdwrLll0"
      }
    },
    {
      "cell_type": "code",
      "source": [
        "from flask import Flask\n",
        "\n",
        "app = Flask(__name__)\n",
        "\n",
        "@app.route('/')\n",
        "def hello_world():\n",
        "  return 'Hello, World!'\n",
        "\n",
        "if __name__ == '__main__':\n",
        "  # app.run(debug=True) # Uncomment to run the Flask app\n",
        "  pass # Placeholder to avoid running the app automatically in Colab"
      ],
      "metadata": {
        "id": "lN63XxL4LynS"
      },
      "execution_count": 2,
      "outputs": []
    },
    {
      "cell_type": "markdown",
      "source": [
        "2. How do you serve static files like images or CSS in Flask"
      ],
      "metadata": {
        "id": "CJ8OOdRALlia"
      }
    },
    {
      "cell_type": "code",
      "source": [
        "from flask import Flask, render_template, url_for\n",
        "\n",
        "app = Flask(__name__)\n",
        "\n",
        "@app.route('/')\n",
        "def index():\n",
        "  # Assuming you have an index.html file in a 'templates' folder\n",
        "  # and static files in a 'static' folder.\n",
        "  return render_template('index.html')\n",
        "\n",
        "if __name__ == '__main__':\n",
        "  # In your template (e.g., templates/index.html), you would link to static files like this:\n",
        "  # <link rel=\"stylesheet\" href=\"{{ url_for('static', filename='css/style.css') }}\">\n",
        "  # <img src=\"{{ url_for('static', filename='images/logo.png') }}\" alt=\"Logo\">\n",
        "  # <script src=\"{{ url_for('static', filename='js/script.js') }}\"></script>\n",
        "  #\n",
        "  # Place your static files (CSS, images, JS, etc.) inside a folder named 'static'\n",
        "  # in your project's root directory. You can create subfolders within 'static'\n",
        "  # for better organization (e.g., static/css, static/images, static/js).\n",
        "  # app.run(debug=True) # Uncomment to run the Flask app\n",
        "  pass # Placeholder to avoid running the app automatically in Colab"
      ],
      "metadata": {
        "id": "95xq1qIgMEc_"
      },
      "execution_count": 3,
      "outputs": []
    },
    {
      "cell_type": "markdown",
      "source": [
        "3.How do you define different routes with different HTTP methods in Flask"
      ],
      "metadata": {
        "id": "D_07359EMe8G"
      }
    },
    {
      "cell_type": "code",
      "source": [
        "from flask import Flask, request\n",
        "\n",
        "app = Flask(__name__)\n",
        "\n",
        "@app.route('/login', methods=['GET', 'POST'])\n",
        "def login():\n",
        "  if request.method == 'POST':\n",
        "    return 'Handling POST request for login'\n",
        "  else:\n",
        "    return 'Handling GET request for login'\n",
        "\n",
        "@app.route('/data', methods=['PUT', 'DELETE'])\n",
        "def data():\n",
        "  if request.method == 'PUT':\n",
        "    return 'Handling PUT request for data'\n",
        "  else:\n",
        "    return 'Handling DELETE request for data'\n",
        "\n",
        "if __name__ == '__main__':\n",
        "  # app.run(debug=True) # Uncomment to run the Flask app\n",
        "  pass # Placeholder to avoid running the app automatically in Colab"
      ],
      "metadata": {
        "id": "CX19OV9KMgy4"
      },
      "execution_count": 4,
      "outputs": []
    },
    {
      "cell_type": "markdown",
      "source": [
        "4. How do you render HTML templates in Flask"
      ],
      "metadata": {
        "id": "I4tbzDoBLlcz"
      }
    },
    {
      "cell_type": "code",
      "execution_count": 1,
      "metadata": {
        "id": "vcW0prY4KmxI"
      },
      "outputs": [],
      "source": [
        "from flask import Flask, render_template\n",
        "\n",
        "app = Flask(__name__)\n",
        "\n",
        "@app.route('/')\n",
        "def index():\n",
        "  return render_template('index.html')\n",
        "\n",
        "if __name__ == '__main__':\n",
        "  # To run this, you'll need an HTML file named 'index.html'\n",
        "  # in a folder called 'templates' in the same directory as your Python file.\n",
        "  # app.run(debug=True) # Uncomment to run the Flask app\n",
        "  pass # Placeholder to avoid running the app automatically in Colab"
      ]
    },
    {
      "cell_type": "markdown",
      "source": [
        "5. How can you generate URLs for routes in Flask using url_for"
      ],
      "metadata": {
        "id": "BxaPc3RFMrsK"
      }
    },
    {
      "cell_type": "code",
      "source": [
        "from flask import Flask, url_for\n",
        "\n",
        "app = Flask(__name__)\n",
        "\n",
        "@app.route('/')\n",
        "def index():\n",
        "  pass\n",
        "\n",
        "@app.route('/user/<username>')\n",
        "def show_user_profile(username):\n",
        "  pass\n",
        "\n",
        "@app.route('/post/<int:post_id>')\n",
        "def show_post(post_id):\n",
        "  pass\n",
        "\n",
        "with app.test_request_context():\n",
        "  # Generate URL for the 'index' route\n",
        "  print(url_for('index'))\n",
        "\n",
        "  # Generate URL for the 'show_user_profile' route with a username\n",
        "  print(url_for('show_user_profile', username='john_doe'))\n",
        "\n",
        "  # Generate URL for the 'show_post' route with a post ID\n",
        "  print(url_for('show_post', post_id=123))\n",
        "\n",
        "  # Generate URL for the 'show_post' route with a post ID and query parameters\n",
        "  print(url_for('show_post', post_id=123, next='/'))\n",
        "\n",
        "  # Generate URL for a static file (assuming a 'static' folder exists)\n",
        "  print(url_for('static', filename='style.css'))"
      ],
      "metadata": {
        "colab": {
          "base_uri": "https://localhost:8080/"
        },
        "id": "KkW7Cg5sMxhE",
        "outputId": "0c828ff7-16e4-4638-c47e-e1ce711b4e56"
      },
      "execution_count": 5,
      "outputs": [
        {
          "output_type": "stream",
          "name": "stdout",
          "text": [
            "/\n",
            "/user/john_doe\n",
            "/post/123\n",
            "/post/123?next=/\n",
            "/static/style.css\n"
          ]
        }
      ]
    },
    {
      "cell_type": "markdown",
      "source": [
        "6. How do you handle forms in Flask"
      ],
      "metadata": {
        "id": "EtjfT68RMYjQ"
      }
    },
    {
      "cell_type": "code",
      "source": [
        "from flask import Flask, request, render_template_string\n",
        "\n",
        "app = Flask(__name__)\n",
        "\n",
        "# Simple HTML template with a form\n",
        "HTML_TEMPLATE = \"\"\"\n",
        "<!doctype html>\n",
        "<html>\n",
        "<head><title>Form Example</title></head>\n",
        "<body>\n",
        "  <h2>Simple Form</h2>\n",
        "  <form method=\"post\">\n",
        "    <label for=\"name\">Name:</label><br>\n",
        "    <input type=\"text\" id=\"name\" name=\"name\"><br><br>\n",
        "    <label for=\"message\">Message:</label><br>\n",
        "    <textarea id=\"message\" name=\"message\"></textarea><br><br>\n",
        "    <input type=\"submit\" value=\"Submit\">\n",
        "  </form>\n",
        "\n",
        "  {% if submitted_name %}\n",
        "    <h3>Submitted Data:</h3>\n",
        "    <p>Name: {{ submitted_name }}</p>\n",
        "    <p>Message: {{ submitted_message }}</p>\n",
        "  {% endif %}\n",
        "</body>\n",
        "</html>\n",
        "\"\"\"\n",
        "\n",
        "@app.route('/submit', methods=['GET', 'POST'])\n",
        "def submit_form():\n",
        "  if request.method == 'POST':\n",
        "    name = request.form.get('name')\n",
        "    message = request.form.get('message')\n",
        "    # You can now process the submitted data (e.g., save to database)\n",
        "    return render_template_string(HTML_TEMPLATE, submitted_name=name, submitted_message=message)\n",
        "  # For GET requests, just render the form\n",
        "  return render_template_string(HTML_TEMPLATE)\n",
        "\n",
        "if __name__ == '__main__':\n",
        "  # Note: Running Flask apps directly in standard Colab environments might require\n",
        "  # extra setup for external access. This example primarily shows the form handling logic.\n",
        "  # app.run(debug=True) # Uncomment to run the Flask app\n",
        "  pass # Placeholder to avoid running the app automatically in Colab"
      ],
      "metadata": {
        "id": "uNs0tfgVM-pX"
      },
      "execution_count": 6,
      "outputs": []
    },
    {
      "cell_type": "markdown",
      "source": [
        "7.  How can you validate form data in Flask"
      ],
      "metadata": {
        "id": "XCas7V_uNGKY"
      }
    },
    {
      "cell_type": "code",
      "source": [
        "from flask import Flask, render_template_string, request\n",
        "from flask_wtf import FlaskForm\n",
        "from wtforms import StringField, SubmitField\n",
        "from wtforms.validators import DataRequired, Email\n",
        "\n",
        "app = Flask(__name__)\n",
        "# Replace with a real secret key in a production environment\n",
        "app.config['SECRET_KEY'] = 'your_secret_key'\n",
        "\n",
        "class MyForm(FlaskForm):\n",
        "  name = StringField('Name', validators=[DataRequired()])\n",
        "  email = StringField('Email', validators=[DataRequired(), Email()])\n",
        "  submit = SubmitField('Submit')\n",
        "\n",
        "HTML_TEMPLATE = \"\"\"\n",
        "<!doctype html>\n",
        "<html>\n",
        "<head><title>Form Validation Example</title></head>\n",
        "<body>\n",
        "  <h2>Form Validation Example</h2>\n",
        "  <form method=\"post\">\n",
        "    {{ form.csrf_token }}\n",
        "    <div>\n",
        "      {{ form.name.label }}<br>\n",
        "      {{ form.name() }}\n",
        "      {% for error in form.name.errors %}\n",
        "        <span style=\"color: red;\">[{{ error }}]</span>\n",
        "      {% endfor %}\n",
        "    </div>\n",
        "    <div>\n",
        "      {{ form.email.label }}<br>\n",
        "      {{ form.email() }}\n",
        "      {% for error in form.email.errors %}\n",
        "        <span style=\"color: red;\">[{{ error }}]</span>\n",
        "      {% endfor %}\n",
        "    </div>\n",
        "    <div>\n",
        "      {{ form.submit() }}\n",
        "    </div>\n",
        "  </form>\n",
        "\n",
        "  {% if submitted_data %}\n",
        "    <h3>Submitted Data:</h3>\n",
        "    <p>Name: {{ submitted_data.name }}</p>\n",
        "    <p>Email: {{ submitted_data.email }}</p>\n",
        "  {% endif %}\n",
        "</body>\n",
        "</html>\n",
        "\"\"\"\n",
        "\n",
        "@app.route('/validate', methods=['GET', 'POST'])\n",
        "def validate_form():\n",
        "  form = MyForm()\n",
        "  if form.validate_on_submit():\n",
        "    # Form is valid, process the data\n",
        "    name = form.name.data\n",
        "    email = form.email.data\n",
        "    submitted_data = {'name': name, 'email': email}\n",
        "    # You would typically save data to a database here\n",
        "    return render_template_string(HTML_TEMPLATE, form=form, submitted_data=submitted_data)\n",
        "  # If GET request or validation failed, render the form with errors\n",
        "  return render_template_string(HTML_TEMPLATE, form=form)\n",
        "\n",
        "if __name__ == '__main__':\n",
        "  # Note: Running Flask apps directly in standard Colab environments might require\n",
        "  # extra setup for external access. This example primarily shows the form validation logic.\n",
        "  # app.run(debug=True) # Uncomment to run the Flask app\n",
        "  pass # Placeholder to avoid running the app automatically in Colab"
      ],
      "metadata": {
        "id": "qUa3phAnNE-m"
      },
      "execution_count": 9,
      "outputs": []
    },
    {
      "cell_type": "markdown",
      "source": [
        "8.  How do you manage sessions in Flask"
      ],
      "metadata": {
        "id": "EWSHrunoNlgr"
      }
    },
    {
      "cell_type": "code",
      "metadata": {
        "id": "1ddea2b9"
      },
      "source": [
        "from flask import Flask, session, redirect, url_for, request\n",
        "\n",
        "app = Flask(__name__)\n",
        "# Set a secret key to enable sessions. Change this to a unique secret key in production.\n",
        "app.config['SECRET_KEY'] = 'super secret key'\n",
        "\n",
        "@app.route('/')\n",
        "def index():\n",
        "  if 'username' in session:\n",
        "    return f'Logged in as {session[\"username\"]} <br> <a href=\"/logout\">Logout</a>'\n",
        "  return 'You are not logged in <br> <a href=\"/login\">Login</a>'\n",
        "\n",
        "@app.route('/login', methods=['GET', 'POST'])\n",
        "def login():\n",
        "  if request.method == 'POST':\n",
        "    session['username'] = request.form['username']\n",
        "    return redirect(url_for('index'))\n",
        "  return '''\n",
        "    <form method=\"post\">\n",
        "      <p><input type=text name=username>\n",
        "      <p><input type=submit value=Login>\n",
        "    </form>\n",
        "  '''\n",
        "\n",
        "@app.route('/logout')\n",
        "def logout():\n",
        "  # remove the username from the session if it's there\n",
        "  session.pop('username', None)\n",
        "  return redirect(url_for('index'))\n",
        "\n",
        "if __name__ == '__main__':\n",
        "  # Note: Running Flask apps directly in standard Colab environments might require\n",
        "  # extra setup for external access. This example primarily shows the session management logic.\n",
        "  # app.run(debug=True) # Uncomment to run the Flask app\n",
        "  pass # Placeholder to avoid running the app automatically in Colab"
      ],
      "execution_count": 11,
      "outputs": []
    },
    {
      "cell_type": "markdown",
      "source": [
        "9.  How do you redirect to a different route in Flask"
      ],
      "metadata": {
        "id": "NrNnfoSBNtdQ"
      }
    },
    {
      "cell_type": "code",
      "source": [
        "from flask import Flask, redirect, url_for\n",
        "\n",
        "app = Flask(__name__)\n",
        "\n",
        "@app.route('/')\n",
        "def index():\n",
        "  return 'This is the index page. <a href=\"/go_to_target\">Go to Target</a>'\n",
        "\n",
        "@app.route('/go_to_target')\n",
        "def go_to_target():\n",
        "  # Redirect to the 'target' route\n",
        "  return redirect(url_for('target'))\n",
        "\n",
        "@app.route('/target')\n",
        "def target():\n",
        "  return 'You have reached the target page!'\n",
        "\n",
        "if __name__ == '__main__':\n",
        "  # Note: Running Flask apps directly in standard Colab environments might require\n",
        "  # extra setup for external access. This example primarily shows the redirection logic.\n",
        "  # app.run(debug=True) # Uncomment to run the Flask app\n",
        "  pass # Placeholder to avoid running the app automatically in Colab"
      ],
      "metadata": {
        "id": "5-1s6l0_N1mY"
      },
      "execution_count": 12,
      "outputs": []
    },
    {
      "cell_type": "markdown",
      "source": [
        "10. How do you handle errors in Flask (e.g., 404)"
      ],
      "metadata": {
        "id": "3sWxEBI5N3ou"
      }
    },
    {
      "cell_type": "code",
      "source": [
        "from flask import Flask, render_template\n",
        "\n",
        "app = Flask(__name__)\n",
        "\n",
        "@app.route('/')\n",
        "def index():\n",
        "  return 'Go to a non-existent page to see the 404 error handler.'\n",
        "\n",
        "@app.errorhandler(404)\n",
        "def page_not_found(error):\n",
        "  # You can render a custom HTML template for the error page\n",
        "  return render_template('404.html'), 404\n",
        "  # Or simply return a string\n",
        "  # return \"Sorry, the page you are looking for could not be found.\", 404\n",
        "\n",
        "if __name__ == '__main__':\n",
        "  # To run this with a custom template, you'll need a '404.html' file\n",
        "  # in a folder called 'templates' in the same directory as your Python file.\n",
        "  # app.run(debug=True) # Uncomment to run the Flask app\n",
        "  pass # Placeholder to avoid running the app automatically in Colab"
      ],
      "metadata": {
        "id": "fWHNPfdnOBYp"
      },
      "execution_count": 13,
      "outputs": []
    },
    {
      "cell_type": "markdown",
      "source": [
        "11.  How do you structure a Flask app using Blueprints"
      ],
      "metadata": {
        "id": "ilS0y4bkOIBw"
      }
    },
    {
      "cell_type": "code",
      "source": [
        "from flask import Flask, Blueprint\n",
        "\n",
        "# Create a Blueprint\n",
        "my_blueprint = Blueprint('my_blueprint', __name__)\n",
        "\n",
        "@my_blueprint.route('/blueprint_route')\n",
        "def blueprint_route():\n",
        "  return \"This is a route from the Blueprint!\"\n",
        "\n",
        "app = Flask(__name__)\n",
        "\n",
        "# Register the Blueprint with the main app\n",
        "app.register_blueprint(my_blueprint, url_prefix='/myblueprint')\n",
        "\n",
        "@app.route('/')\n",
        "def index():\n",
        "  return 'This is the main app index page. Go to <a href=\"/myblueprint/blueprint_route\">Blueprint Route</a>'\n",
        "\n",
        "if __name__ == '__main__':\n",
        "  # Note: Running Flask apps directly in standard Colab environments might require\n",
        "  # extra setup for external access. This example primarily shows the Blueprint logic.\n",
        "  # app.run(debug=True) # Uncomment to run the Flask app\n",
        "  pass # Placeholder to avoid running the app automatically in Colab"
      ],
      "metadata": {
        "id": "UctlC59gOSHk"
      },
      "execution_count": 14,
      "outputs": []
    },
    {
      "cell_type": "markdown",
      "source": [
        "12. How do you define a custom Jinja filter in Flask"
      ],
      "metadata": {
        "id": "yWSOrSRhOp7-"
      }
    },
    {
      "cell_type": "code",
      "source": [
        "from flask import Flask, render_template_string\n",
        "\n",
        "app = Flask(__name__)\n",
        "\n",
        "# Define a custom Jinja filter\n",
        "@app.template_filter('reverse_string')\n",
        "def reverse_string_filter(s):\n",
        "  return s[::-1]\n",
        "\n",
        "# Simple HTML template that uses the custom filter\n",
        "HTML_TEMPLATE = \"\"\"\n",
        "<!doctype html>\n",
        "<html>\n",
        "<head><title>Custom Jinja Filter Example</title></head>\n",
        "<body>\n",
        "  <h2>Custom Jinja Filter Example</h2>\n",
        "  <p>Original string: {{ my_string }}</p>\n",
        "  <p>Reversed string: {{ my_string | reverse_string }}</p>\n",
        "</body>\n",
        "</html>\n",
        "\"\"\"\n",
        "\n",
        "@app.route('/')\n",
        "def index():\n",
        "  my_string = \"Hello, Flask!\"\n",
        "  return render_template_string(HTML_TEMPLATE, my_string=my_string)\n",
        "\n",
        "if __name__ == '__main__':\n",
        "  # Note: Running Flask apps directly in standard Colab environments might require\n",
        "  # extra setup for external access. This example primarily shows the custom filter logic.\n",
        "  # app.run(debug=True) # Uncomment to run the Flask app\n",
        "  pass # Placeholder to avoid running the app automatically in Colab"
      ],
      "metadata": {
        "id": "VaRnyQ-nOvDH"
      },
      "execution_count": 15,
      "outputs": []
    },
    {
      "cell_type": "markdown",
      "source": [
        "13.  How can you redirect with query parameters in Flask"
      ],
      "metadata": {
        "id": "ZVXSYs4QO6qN"
      }
    },
    {
      "cell_type": "code",
      "source": [
        "from flask import Flask, redirect, url_for\n",
        "\n",
        "app = Flask(__name__)\n",
        "\n",
        "@app.route('/')\n",
        "def index():\n",
        "  return 'This is the index page. <a href=\"/go_to_target_with_params\">Go to Target with Parameters</a>'\n",
        "\n",
        "@app.route('/go_to_target_with_params')\n",
        "def go_to_target_with_params():\n",
        "  # Redirect to the 'target_with_params' route with query parameters\n",
        "  return redirect(url_for('target_with_params', param1='value1', param2='value2'))\n",
        "\n",
        "@app.route('/target_with_params')\n",
        "def target_with_params():\n",
        "  # You can access the query parameters using request.args\n",
        "  from flask import request\n",
        "  param1 = request.args.get('param1')\n",
        "  param2 = request.args.get('param2')\n",
        "  return f'You have reached the target page with parameters: param1={param1}, param2={param2}'\n",
        "\n",
        "if __name__ == '__main__':\n",
        "  # Note: Running Flask apps directly in standard Colab environments might require\n",
        "  # extra setup for external access. This example primarily shows the redirection logic.\n",
        "  # app.run(debug=True) # Uncomment to run the Flask app\n",
        "  pass # Placeholder to avoid running the app automatically in Colab"
      ],
      "metadata": {
        "id": "5fL4WnvuO8gh"
      },
      "execution_count": 16,
      "outputs": []
    },
    {
      "cell_type": "markdown",
      "source": [
        "14.  How do you return JSON responses in Flask"
      ],
      "metadata": {
        "id": "2fK8UYTvPGJm"
      }
    },
    {
      "cell_type": "code",
      "source": [
        "from flask import Flask, jsonify\n",
        "\n",
        "app = Flask(__name__)\n",
        "\n",
        "@app.route('/data')\n",
        "def get_data():\n",
        "  data = {\n",
        "      'name': 'Flask API',\n",
        "      'version': '1.0',\n",
        "      'data': [\n",
        "          {'id': 1, 'item': 'apple'},\n",
        "          {'id': 2, 'item': 'banana'}\n",
        "      ]\n",
        "  }\n",
        "  return jsonify(data)\n",
        "\n",
        "@app.route('/')\n",
        "def index():\n",
        "    return 'Go to <a href=\"/data\">/data</a> to see a JSON response.'\n",
        "\n",
        "if __name__ == '__main__':\n",
        "  # Note: Running Flask apps directly in standard Colab environments might require\n",
        "  # extra setup for external access. This example primarily shows the JSON response logic.\n",
        "  # app.run(debug=True) # Uncomment to run the Flask app\n",
        "  pass # Placeholder to avoid running the app automatically in Colab"
      ],
      "metadata": {
        "id": "6WjDv-TuPJ5W"
      },
      "execution_count": 17,
      "outputs": []
    },
    {
      "cell_type": "markdown",
      "source": [
        "15.  How do you capture URL parameters in Flask"
      ],
      "metadata": {
        "id": "64r1zhQ-PRDN"
      }
    },
    {
      "cell_type": "code",
      "source": [
        "from flask import Flask\n",
        "\n",
        "app = Flask(__name__)\n",
        "\n",
        "@app.route('/user/<username>')\n",
        "def show_user_profile(username):\n",
        "  # show the user profile for that user\n",
        "  return f'User: {username}'\n",
        "\n",
        "@app.route('/post/<int:post_id>')\n",
        "def show_post(post_id):\n",
        "  # show the post with the given id, the id is an integer\n",
        "  return f'Post ID: {post_id}'\n",
        "\n",
        "@app.route('/path/<path:subpath>')\n",
        "def show_subpath(subpath):\n",
        "  # show the subpath after /path/\n",
        "  return f'Subpath: {subpath}'\n",
        "\n",
        "if __name__ == '__main__':\n",
        "  # Note: Running Flask apps directly in standard Colab environments might require\n",
        "  # extra setup for external access. This example primarily shows how to capture URL parameters.\n",
        "  # app.run(debug=True) # Uncomment to run the Flask app\n",
        "  pass # Placeholder to avoid running the app automatically in Colab"
      ],
      "metadata": {
        "id": "nVXff6RCPUXE"
      },
      "execution_count": 18,
      "outputs": []
    }
  ]
}